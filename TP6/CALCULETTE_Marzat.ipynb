{
 "cells": [
  {
   "cell_type": "markdown",
   "id": "81f194b1",
   "metadata": {},
   "source": [
    "# TP 7 :  TP CALCULETTE - INTERPRETATION"
   ]
  },
  {
   "attachments": {},
   "cell_type": "markdown",
   "id": "c9d9e070",
   "metadata": {},
   "source": [
    "Etudiant : MARZAT Noe"
   ]
  },
  {
   "cell_type": "markdown",
   "id": "d18b18cc",
   "metadata": {},
   "source": [
    "## PARTIE 1 :  Mise en place\n",
    "Exécuter les cellules suivantes"
   ]
  },
  {
   "cell_type": "code",
   "execution_count": null,
   "id": "19ebc16b",
   "metadata": {},
   "outputs": [],
   "source": [
    "import nltk\n",
    "from nltk import *\n",
    "from os import chdir, getcwd\n",
    "from nltk import load_parser\n",
    "import string\n",
    "\n",
    "from os import chdir, getcwd\n",
    "# PATH = 'chemin vers votre dossier de TP'\n",
    "PATH = '/home/noe/Documents/Upssitech/2A/Semestre 2/TAP/TP6'\n",
    "chdir(PATH)"
   ]
  },
  {
   "cell_type": "code",
   "execution_count": null,
   "id": "f2f70f95",
   "metadata": {},
   "outputs": [
    {
     "name": "stdout",
     "output_type": "stream",
     "text": [
      "/home/noe/Documents/Upssitech/2A/Semestre 2/TAP/TP6\n",
      "CALCULETTE_Marzat.ipynb        RESULTAT_TRANSCRIPTION_V3.txt\n",
      "GRAMMAIRE_OPERATION_V1.fcfg    RESULTAT_TRANSCRIPTION_V4.txt\n",
      "RESULTAT_TRANSCRIPTION_V1.txt  RESULTAT_TRANSCRIPTION_V5.txt\n",
      "RESULTAT_TRANSCRIPTION_V2.txt\n"
     ]
    }
   ],
   "source": [
    "!pwd; ls"
   ]
  },
  {
   "cell_type": "markdown",
   "id": "38ff5f50",
   "metadata": {},
   "source": [
    "## PARTIE 2 : Grammaire, Analyseur et chaine à traiter\n",
    "\n",
    "2.1) Exécuter les cellules suivantes. Etudier et interpréter leurs résultats"
   ]
  },
  {
   "cell_type": "code",
   "execution_count": null,
   "id": "917fb6a5",
   "metadata": {},
   "outputs": [
    {
     "name": "stdout",
     "output_type": "stream",
     "text": [
      "%start OPERATION\n",
      "OPERATION -> CALCUL_A_FAIRE[INTERP=?i]\n",
      "CALCUL_A_FAIRE[INTERP=(?n1+?o+?n2)] -> NOMBRE[SEM=?n1] OPERATEUR[SEM=?o] NOMBRE[SEM=?n2]\n",
      "CHIFFRE[SEM='0'] -> 'zero'\n",
      "CHIFFRE[SEM='1'] -> 'un'\n",
      "CHIFFRE[SEM='2'] -> 'deux'\n",
      "CHIFFRE[SEM='3'] -> 'trois'\n",
      "CHIFFRE[SEM='4'] -> 'quatre'\n",
      "CHIFFRE[SEM='5'] -> 'cinq'\n",
      "CHIFFRE[SEM='6'] -> 'six'\n",
      "CHIFFRE[SEM='7'] -> 'sept'\n",
      "CHIFFRE[SEM='8'] -> 'huit'\n",
      "CHIFFRE[SEM='9'] -> 'neuf'\n",
      "DIZAINE[SEM='10'] -> 'dix'\n",
      "DIZAINE[SEM='20'] -> 'vingt'\n",
      "NOMBRE[SEM=?sem] -> CHIFFRE[SEM=?sem]\n",
      "NOMBRE[SEM=?sem] -> DIZAINE[SEM=?sem]\n",
      "OPERATEUR[SEM='+'] -> 'plus'\n",
      "OPERATEUR[SEM='-'] -> 'moins'\n"
     ]
    }
   ],
   "source": [
    "# Chargement de la grammaire\n",
    "nom_fichier_grammaire_V1 = 'GRAMMAIRE_OPERATION_V1.fcfg'\n",
    "# Visualisation du contenu de la grammaire\n",
    "data.show_cfg(nom_fichier_grammaire_V1)"
   ]
  },
  {
   "cell_type": "code",
   "execution_count": null,
   "id": "986e348a",
   "metadata": {},
   "outputs": [],
   "source": [
    "# Création d'un analyseur basé sur la grammaire chargée\n",
    "# version avec un niveau de tracde détaillé\n",
    "\n",
    "analyseur_V1 = parse.load_parser(nom_fichier_grammaire_V1, trace=2)\n",
    "\n",
    "# ATTENTION MEME SI ON RELANCE LA CELLULE, LES MODIFS FAITES SUR LA GRAMMAIRE PEUVENT NE PAS ETRE PRISES EN COMPTE\n",
    "# IL FAUT RELANCER LE NOYAU en attendant mieux. \n",
    "\n",
    "# version sans niveau de trace\n",
    "# analyseur_notrace = parse.load_parser(nom_fichier_grammaire)"
   ]
  },
  {
   "cell_type": "code",
   "execution_count": null,
   "id": "ffdf5d31",
   "metadata": {},
   "outputs": [
    {
     "data": {
      "text/plain": [
       "['cinq', 'plus', 'trois']"
      ]
     },
     "execution_count": 21,
     "metadata": {},
     "output_type": "execute_result"
    }
   ],
   "source": [
    "# Exemple de chaine à traiter \n",
    "transcription_operation = 'cinq plus trois' \n",
    "\n",
    "#Transformation de la chaine à traiter en liste de tokens\n",
    "tokens = transcription_operation.split()\n",
    "tokens"
   ]
  },
  {
   "cell_type": "code",
   "execution_count": null,
   "id": "37952aae",
   "metadata": {},
   "outputs": [
    {
     "name": "stdout",
     "output_type": "stream",
     "text": [
      "|.cinq.plus.troi.|\n",
      "Leaf Init Rule:\n",
      "|[----]    .    .| [0:1] 'cinq'\n",
      "|.    [----]    .| [1:2] 'plus'\n",
      "|.    .    [----]| [2:3] 'trois'\n",
      "Feature Bottom Up Predict Combine Rule:\n",
      "|[----]    .    .| [0:1] CHIFFRE[SEM='5'] -> 'cinq' *\n",
      "Feature Bottom Up Predict Combine Rule:\n",
      "|[----]    .    .| [0:1] NOMBRE[SEM='5'] -> CHIFFRE[SEM='5'] *\n",
      "Feature Bottom Up Predict Combine Rule:\n",
      "|[---->    .    .| [0:1] CALCUL_A_FAIRE[INTERP=(?n1+?o+?n2)] -> NOMBRE[SEM=?n1] * OPERATEUR[SEM=?o] NOMBRE[SEM=?n2] {?n1: '5'}\n",
      "Feature Bottom Up Predict Combine Rule:\n",
      "|.    [----]    .| [1:2] OPERATEUR[SEM='+'] -> 'plus' *\n",
      "Feature Single Edge Fundamental Rule:\n",
      "|[--------->    .| [0:2] CALCUL_A_FAIRE[INTERP=(?n1+?o+?n2)] -> NOMBRE[SEM=?n1] OPERATEUR[SEM=?o] * NOMBRE[SEM=?n2] {?n1: '5', ?o: '+'}\n",
      "Feature Bottom Up Predict Combine Rule:\n",
      "|.    .    [----]| [2:3] CHIFFRE[SEM='3'] -> 'trois' *\n",
      "Feature Bottom Up Predict Combine Rule:\n",
      "|.    .    [----]| [2:3] NOMBRE[SEM='3'] -> CHIFFRE[SEM='3'] *\n",
      "Feature Bottom Up Predict Combine Rule:\n",
      "|.    .    [---->| [2:3] CALCUL_A_FAIRE[INTERP=(?n1+?o+?n2)] -> NOMBRE[SEM=?n1] * OPERATEUR[SEM=?o] NOMBRE[SEM=?n2] {?n1: '3'}\n",
      "Feature Single Edge Fundamental Rule:\n",
      "|[==============]| [0:3] CALCUL_A_FAIRE[INTERP=(5, +, 3)] -> NOMBRE[SEM='5'] OPERATEUR[SEM='+'] NOMBRE[SEM='3'] *\n",
      "Feature Bottom Up Predict Combine Rule:\n",
      "|[==============]| [0:3] OPERATION[] -> CALCUL_A_FAIRE[INTERP=(5, +, 3)] *\n",
      "<generator object FeatureChart.parses at 0x7f3498f67920>\n"
     ]
    }
   ],
   "source": [
    "# Récupération du résultat de l'analyse de la suite de tokens \n",
    "# en fonction de la grammaire qui a permis de générer l'analyseur. \n",
    "\n",
    "resultat_analyse = analyseur_V1.parse(tokens)\n",
    "print(resultat_analyse)\n",
    "# vérification de la validité de la phrase du point de vue de la grammaire et récupération du résultat.\n",
    "# Analyser ma trace qui s'affiche"
   ]
  },
  {
   "cell_type": "markdown",
   "id": "869bef15",
   "metadata": {},
   "source": [
    "2.2) Commenter ici le résultat produit par la cellule précédente. \n",
    "\n",
    "Le resultat correspond a l'analyse sémantique de l'expression \"cinq plus trois\".\n",
    "L'analyseur fait correspondre '5' à \"cinq\", '+' à \"plus\" et '3' à \"trois\". Finalement il fait correspondre '5', '+' et '3' à la formule NOMBRE[SEM=?n1] OPERATEUR[SEM=?o] NOMBRE[SEM=?n2]\n",
    "définie dans les grammaires\n",
    "\n",
    "Exemple avec l'arbre vu en cours"
   ]
  },
  {
   "cell_type": "markdown",
   "id": "5cd05ea4",
   "metadata": {},
   "source": [
    "## PARTIE 3 :  Extraire l'interprétation et calculer le résultat "
   ]
  },
  {
   "cell_type": "markdown",
   "id": "37f83267",
   "metadata": {},
   "source": [
    "3.1) Analyser chacune des fonctions suivantes et commenter \n",
    "\n",
    "-- extraire_interpretation(arbre) --\n",
    "\n",
    "Prend un arbre syntaxique et le découpe pour en retirer l'expression mathématique correspondante sous forme d'un string.\n",
    "Finalement, ça découpe ce string en plusieurs parties qui correspondent aux chiffres et aux opérateurs et \n",
    "\n",
    "-- calculer(operation) --\n",
    "\n",
    "Evalue une operation donnée, print le resultat et le retourne\n",
    "\n",
    "-- repondre_vocal(texte_initial, resultat) --\n",
    "\n",
    "Synthetise l'operation et la prononce en vocal en utilisant espeak"
   ]
  },
  {
   "cell_type": "code",
   "execution_count": null,
   "id": "a6e420e2",
   "metadata": {},
   "outputs": [],
   "source": [
    "def extraire_interpretation(arbre):\n",
    "    tmp = str(arbre[0])\n",
    "    racine = tmp.split('\\n')\n",
    "    interpretation = racine[0]\n",
    "    print(interpretation)\n",
    "    expression = interpretation[24:len(interpretation) -2]\n",
    "    print('expression = ', expression)\n",
    "    \n",
    "    operation = expression.split(\", \")\n",
    "    print('operation =', operation)\n",
    "    \n",
    "    texte_operation = ' '.join(operation)\n",
    "    \n",
    "    return texte_operation"
   ]
  },
  {
   "cell_type": "code",
   "execution_count": null,
   "id": "ad5adc48",
   "metadata": {},
   "outputs": [],
   "source": [
    "def calculer(operation):\n",
    "    resultat = eval(operation)\n",
    "    print('resultat = ', operation, ' = ', resultat )\n",
    "    return resultat"
   ]
  },
  {
   "cell_type": "code",
   "execution_count": null,
   "id": "1adfc4e7",
   "metadata": {},
   "outputs": [],
   "source": [
    "def repondre_vocal(texte_initial, resultat):\n",
    "    # necessite l'installation de espeak pip install espeak - PB d'installation \n",
    "        reponse = texte_initial + \"est égal à \" + \"resultat\"\n",
    "        print(reponse)\n",
    "        os.system(\"espeak -v mb-fr4 reponse \\\" &> /dev/null\")\n"
   ]
  },
  {
   "cell_type": "markdown",
   "id": "227b464b",
   "metadata": {},
   "source": [
    "3.2) Exécuter la cellule ci après et commenter le résultat :\n",
    "\n",
    "Le resultat correspond à interpretation de l'arbre fourni en entrée.\n",
    "\n",
    "On remarque que l'expression 5 + 3 est bien reconnue comme une opération mathématique ('5', '+', '3'). On obtient le bon resultat 8."
   ]
  },
  {
   "cell_type": "code",
   "execution_count": null,
   "id": "cc8d2e45",
   "metadata": {},
   "outputs": [
    {
     "name": "stdout",
     "output_type": "stream",
     "text": [
      "(OPERATION[]\n",
      "  (CALCUL_A_FAIRE[INTERP=(5, +, 3)]\n",
      "    (NOMBRE[SEM='5'] (CHIFFRE[SEM='5'] cinq))\n",
      "    (OPERATEUR[SEM='+'] plus)\n",
      "    (NOMBRE[SEM='3'] (CHIFFRE[SEM='3'] trois))))\n",
      "-------------------\n",
      "(CALCUL_A_FAIRE[INTERP=(5, +, 3)]\n",
      "expression =  5, +, 3\n",
      "operation = ['5', '+', '3']\n",
      "resultat =  5 + 3  =  8\n",
      "resultat =  8\n",
      "..................................\n"
     ]
    }
   ],
   "source": [
    "#Analyse de la phrase à traiter (supposer être le résultat du processus de reconnaissance de la parole TP5)\n",
    "for arbre in resultat_analyse: \n",
    "    print(arbre)\n",
    "    print(\"-------------------\")\n",
    "\n",
    "    operation = extraire_interpretation(arbre)\n",
    "    resultat = calculer(operation)\n",
    "    print(\"resultat = \", resultat )\n",
    "    \n",
    "    #repondre_vocal(transcription_operation, resultat )\n",
    "\n",
    "    print(\"..................................\")"
   ]
  },
  {
   "cell_type": "markdown",
   "id": "8f50f8dd",
   "metadata": {},
   "source": [
    "## PARTIE 4 :  Application au résultat de la reconnaissance (processus réalisé en amont)"
   ]
  },
  {
   "cell_type": "markdown",
   "id": "6eaeaa45",
   "metadata": {},
   "source": [
    "4.1) Ecrire le code de la fonction interpretation_par_lot qui permette de traiter une suite de commandes reconnues par le processus de reconnaissance \n",
    "de la parole (RAP cf TP5) et supposées stockées dans un fichier texte fourni en entrée (paramètre Nom_Fichier_Resultat_Reco). \n",
    "Le résultat du traitement est sauvegardé dans un fichier texte produit en sortie (paramètre Nom_Fichier_Resultat_Calcul). \n",
    "Le traitement se fait en fonction de l'analyseur (paramètre Analyseur) donnée en paramètre "
   ]
  },
  {
   "cell_type": "code",
   "execution_count": null,
   "id": "f0b9804e",
   "metadata": {},
   "outputs": [],
   "source": [
    "def interpretation_par_lot (Nom_Fichier_Resultat_Reco, Nom_Fichier_Resultat_Calcul, Analyseur):\n",
    "    \n",
    "    file = open(Nom_Fichier_Resultat_Reco, \"r\")\n",
    "    result_file = open(Nom_Fichier_Resultat_Calcul, \"w\")\n",
    "    nb_calcul = 0\n",
    "\n",
    "    for line in file:\n",
    "\n",
    "        result_file.write(line)\n",
    "\n",
    "        nb_calcul += 1\n",
    "        resultat_analyse = Analyseur.parse(line.split())\n",
    "\n",
    "        for arbre in resultat_analyse: \n",
    "\n",
    "            operation = extraire_interpretation(arbre)\n",
    "            resultat = calculer(operation)\n",
    "\n",
    "            result_file.write(str(operation) + \" = \" + str(resultat) + \"\\n\")\n",
    "            \n",
    "    return nb_calcul"
   ]
  },
  {
   "attachments": {},
   "cell_type": "markdown",
   "id": "37d9a9cb",
   "metadata": {},
   "source": [
    "4.2) Appliquer et analyser le résultat. \n",
    "\n",
    "On remarque que toute les expressions mathématiques valides sont bien reconnues et que le resultat est correct à chaque fois."
   ]
  },
  {
   "cell_type": "code",
   "execution_count": null,
   "id": "4d3397e4",
   "metadata": {},
   "outputs": [
    {
     "name": "stdout",
     "output_type": "stream",
     "text": [
      "(CALCUL_A_FAIRE[INTERP=(5, +, 7)]\n",
      "expression =  5, +, 7\n",
      "operation = ['5', '+', '7']\n",
      "resultat =  5 + 7  =  12\n",
      "(CALCUL_A_FAIRE[INTERP=(10, -, 3)]\n",
      "expression =  10, -, 3\n",
      "operation = ['10', '-', '3']\n",
      "resultat =  10 - 3  =  7\n",
      "(CALCUL_A_FAIRE[INTERP=(1, -, 0)]\n",
      "expression =  1, -, 0\n",
      "operation = ['1', '-', '0']\n",
      "resultat =  1 - 0  =  1\n",
      "(CALCUL_A_FAIRE[INTERP=(0, -, 1)]\n",
      "expression =  0, -, 1\n",
      "operation = ['0', '-', '1']\n",
      "resultat =  0 - 1  =  -1\n",
      "(CALCUL_A_FAIRE[INTERP=(6, +, 8)]\n",
      "expression =  6, +, 8\n",
      "operation = ['6', '+', '8']\n",
      "resultat =  6 + 8  =  14\n",
      "(CALCUL_A_FAIRE[INTERP=(8, -, 9)]\n",
      "expression =  8, -, 9\n",
      "operation = ['8', '-', '9']\n",
      "resultat =  8 - 9  =  -1\n",
      "(CALCUL_A_FAIRE[INTERP=(10, +, 10)]\n",
      "expression =  10, +, 10\n",
      "operation = ['10', '+', '10']\n",
      "resultat =  10 + 10  =  20\n",
      "(CALCUL_A_FAIRE[INTERP=(10, +, 8)]\n",
      "expression =  10, +, 8\n",
      "operation = ['10', '+', '8']\n",
      "resultat =  10 + 8  =  18\n",
      "(CALCUL_A_FAIRE[INTERP=(4, +, 6)]\n",
      "expression =  4, +, 6\n",
      "operation = ['4', '+', '6']\n",
      "resultat =  4 + 6  =  10\n",
      "Nombre de commandes exécutées :  12\n"
     ]
    }
   ],
   "source": [
    "analyseur_notrace = parse.load_parser(\"GRAMMAIRE_OPERATION_V1.fcfg\")\n",
    "nb_commande = interpretation_par_lot(\"RESULTAT_TRANSCRIPTION_V1.txt\", \"RESULTAT_CALCUL_V1.txt\", analyseur_notrace)\n",
    "if nb_commande:\n",
    "    print(\"Nombre de commandes exécutées : \", nb_commande)\n",
    "else: \n",
    "    print(\"Aucun calcul valide\")"
   ]
  },
  {
   "cell_type": "markdown",
   "id": "bb17b631",
   "metadata": {},
   "source": [
    "4.3) Visualiser le contenu de RESULTAT_CALCUL_V1.txt\n",
    "\n",
    "On remarque que les phrases non-valides ne sont pas traitées."
   ]
  },
  {
   "cell_type": "code",
   "execution_count": null,
   "id": "981ef5a9",
   "metadata": {},
   "outputs": [
    {
     "name": "stdout",
     "output_type": "stream",
     "text": [
      "cinq plus sept\n",
      "5 + 7 = 12\n",
      "dix moins trois\n",
      "10 - 3 = 7\n",
      "un moins zero\n",
      "1 - 0 = 1\n",
      "zero moins un\n",
      "0 - 1 = -1\n",
      "six plus huit\n",
      "6 + 8 = 14\n",
      "huit moins neuf\n",
      "8 - 9 = -1\n",
      "dix plus dix\n",
      "10 + 10 = 20\n",
      "dix plus huit\n",
      "10 + 8 = 18\n",
      "quatre plus six\n",
      "4 + 6 = 10\n",
      "six plus\n",
      "dix dix dix\n",
      "plus moins plus\n"
     ]
    }
   ],
   "source": [
    "result_V1 = open(\"RESULTAT_CALCUL_V1.txt\", \"r\")\n",
    "for line in result_V1:\n",
    "    print(line, end=\"\")"
   ]
  },
  {
   "cell_type": "markdown",
   "id": "b1bdbff4",
   "metadata": {},
   "source": [
    "## PARTIE 5 : Evolution de la grammaire"
   ]
  },
  {
   "cell_type": "raw",
   "id": "e7b73c49",
   "metadata": {},
   "source": [
    "Proposer une version enrichie de la grammaire initiale GRAMMAIRE_OPERATION.fcfg pour traiter des opérations plus complexes comme celles contenues dans le fichier RESULTAT_TRANSCRIPTION_V2.txt, ...\n",
    "\n",
    "Considérer \"multiplié par\" comme un seul mot 'multiplié_par', idem pour divisé_par, au_carré, racine_carrée_de ...\n",
    "\n",
    "ATTENTION : PROCEDER PAR ETAPES car difficile à débugguer sinon. \n",
    "\n",
    "Créer des versions intermédiaires V3, V4, ..., etc et tester au fur et à mesure. \n",
    "\n",
    "5.1) GRAMMAIRE_OPERATION_V2.fcfg\n",
    "\n",
    "ajouter d'autres opérateurs binaires (nécessitant 2 opérandes) pour traiter les énoncés du type suivant\n",
    "\n",
    "cinq fois sept\n",
    "vingt divisé par cinq\n",
    "cinq multiplié par dix\n",
    "deux puissance huit\n",
    "...\n"
   ]
  },
  {
   "cell_type": "code",
   "execution_count": null,
   "id": "b4ffe3f7",
   "metadata": {},
   "outputs": [],
   "source": [
    "## Tester ici avec RESULTAT_TRANSCRIPTION_V2.txt complété et visualisr le fichier RESULTAT_CALCUL_V2.txt"
   ]
  },
  {
   "cell_type": "raw",
   "id": "48d095ae",
   "metadata": {},
   "source": [
    "5.2) GRAMMAIRE_OPERATION_V3.fcfg\n",
    "\n",
    "ajouter d'autres nombres \n",
    "\n",
    "cinquante fois trente\n",
    "cent divisé par dix\n",
    "soixante multiplié par deux\n",
    "cent puissance deux\n",
    "..."
   ]
  },
  {
   "cell_type": "code",
   "execution_count": null,
   "id": "b02f5792",
   "metadata": {},
   "outputs": [],
   "source": [
    "## Tester ici avec RESULTAT_TRANSCRIPTION_V3.txt complété et visualisr le fichier RESULTAT_CALCUL_V3.txt"
   ]
  },
  {
   "cell_type": "raw",
   "id": "30d022e9",
   "metadata": {},
   "source": [
    "5.3) GRAMMAIRE_OPERATION_V4.fcfg\n",
    "\n",
    "ajouter des opérateurs unaires (nécessitant un opérande) \n",
    "\n",
    "dix au_carré\n",
    "racine_carrée_de cent\n",
    "moins dix\n",
    "..."
   ]
  },
  {
   "cell_type": "code",
   "execution_count": null,
   "id": "8c1ca2d0",
   "metadata": {},
   "outputs": [],
   "source": [
    "## Tester ici avec RESULTAT_TRANSCRIPTION_V4.txt et visualisr le fichier RESULTAT_CALCUL_V4.txt"
   ]
  },
  {
   "cell_type": "code",
   "execution_count": null,
   "id": "dfa0a0cb",
   "metadata": {},
   "outputs": [],
   "source": [
    "5.4) GRAMMAIRE_OPERATION_V5.fcfg\n",
    "\n",
    "ajouter des opérations plus complexes  comme\n",
    "\n",
    "six plus trois fois dix\n",
    "trente fois dix divisé_par six\n",
    "cent moins dix au_carré\n",
    "racine_carrée_de cent moins quatre-vingt_dix\n",
    "...\n"
   ]
  },
  {
   "cell_type": "code",
   "execution_count": null,
   "id": "417069a8",
   "metadata": {},
   "outputs": [],
   "source": [
    "## Tester ici avec RESULTAT_TRANSCRIPTION_V5.txt et visualisr le fichier RESULTAT_CALCUL_V5.txt"
   ]
  }
 ],
 "metadata": {
  "kernelspec": {
   "display_name": "Python 3 (ipykernel)",
   "language": "python",
   "name": "python3"
  },
  "language_info": {
   "codemirror_mode": {
    "name": "ipython",
    "version": 3
   },
   "file_extension": ".py",
   "mimetype": "text/x-python",
   "name": "python",
   "nbconvert_exporter": "python",
   "pygments_lexer": "ipython3",
   "version": "3.10.9"
  }
 },
 "nbformat": 4,
 "nbformat_minor": 5
}
