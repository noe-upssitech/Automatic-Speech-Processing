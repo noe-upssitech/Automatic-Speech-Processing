{
 "cells": [
  {
   "attachments": {},
   "cell_type": "markdown",
   "metadata": {},
   "source": [
    "# TP4 : Reconnaissance de mots isolés par programmation dynamique (DTW)\n",
    "\n",
    "NOM - PRÉNOM : MARZAT Noé\n",
    "Déposer le notebook sur moodle à la fin de la séance."
   ]
  },
  {
   "cell_type": "code",
   "execution_count": 13,
   "metadata": {},
   "outputs": [],
   "source": [
    "import numpy as np\n",
    "from math import floor, inf, dist\n",
    "import scipy.io.wavfile as wav\n",
    "import os\n",
    "import matplotlib.pyplot as plt\n",
    "\n",
    "import glob\n",
    "import pandas as pd\n",
    "import seaborn as sns"
   ]
  },
  {
   "cell_type": "markdown",
   "metadata": {},
   "source": [
    "# Réutilisation de fonctions pour la lecture et la paramétrisation"
   ]
  },
  {
   "cell_type": "code",
   "execution_count": 14,
   "metadata": {},
   "outputs": [],
   "source": [
    "# Réutiliser la fonction lecture permettant de lire un fichier son et de connaître ses caractéristiques \n",
    "# (fréquence d’échantillonnage, durée).\n",
    "\n",
    "# LECTURE d'un fichier Wave\n",
    "def lecture(fichier, nb_bits=16):\n",
    "    Fe, Signal = wav.read(fichier)\n",
    "    duree = Signal.shape[0]/Fe\n",
    "    Signal_normalise = Signal/((2**(nb_bits-1))-1)\n",
    "    return (Signal_normalise, Fe, duree)"
   ]
  },
  {
   "cell_type": "code",
   "execution_count": 15,
   "metadata": {},
   "outputs": [],
   "source": [
    "# Réutiliser la fonction parametrisation qui calcule les paramètres acoustiques\n",
    "# (coefficients cepstraux) d’un fichier sonore sur des fenêtres de taille  \"taille_fenetre\"   avec un\n",
    "# recouvrement de moitié .\n",
    "    \n",
    "# Calcul de \"nbe_coef\" coefficients cepstraux\n",
    "def parametrisation(signal, taille_fenetre = 1024, nbe_coef = 16):\n",
    "    # Initialisation de la matrice résultat\n",
    "    recouvrement = floor(taille_fenetre / 2)\n",
    "    nb_fen = floor((np.size(signal) - taille_fenetre) / recouvrement) + 1\n",
    "    mfcc = np.zeros((nb_fen, nbe_coef))\n",
    "\n",
    "    # Calcul des MFCC\n",
    "    for fen in range(nb_fen):\n",
    "        p = fen * recouvrement\n",
    "        spectre = abs(np.fft.fft(np.multiply(signal[p:p + taille_fenetre], np.hamming(taille_fenetre))))\n",
    "        cepstre = np.fft.fft(np.log(spectre))\n",
    "        cc = cepstre[1:nbe_coef+1].real\n",
    "        mfcc[fen, :] = cc\n",
    "\n",
    "    return mfcc"
   ]
  },
  {
   "cell_type": "code",
   "execution_count": 16,
   "metadata": {},
   "outputs": [],
   "source": [
    "# Modifier votre fonction parametrisation_total (utilisant la fonction   parametrisation  )\n",
    "# afin qu’elle permette de calculer les paramètres pour l’ensemble des fichiers d’un répertoire\n",
    "# rep_wav et de stocker les résultats dans un répertoirenrep_mfcc. Cette fonction renvoie\n",
    "# la liste des noms de fichiers traités.\n",
    "\"\"\"\n",
    "def treat_all_file_in_dir(list_of_path, result_dir_name, taille_fenetre, nbe_coef):\n",
    "    for file in list_of_path:\n",
    "        signal_obs, _, _ = lecture(file)\n",
    "        mfcc = parametrisation(signal_obs, taille_fenetre, nbe_coef)\n",
    "        np.savetxt(result_dir_name + os.path.splitext(os.path.basename(file))[0] + \".mfcc\", mfcc)\n",
    "    \n",
    "# Fonction de paramétrisation totale --> tous les fichiers du répertoire 'WAV/APP'\n",
    "def parametrisation_total(taille_fenetre, nbe_coef):\n",
    "    treat_all_file_in_dir(glob.glob(os.path.join('SIGNAL/REF/', '*.wav')), \"MFCC_REF/\", taille_fenetre, nbe_coef)\n",
    "    treat_all_file_in_dir(glob.glob(os.path.join('SIGNAL/OBS/', '*.wav')), \"MFCC_OBS/\", taille_fenetre, nbe_coef)\n",
    "    \n",
    "    return glob.glob(os.path.join('SIGNAL/OBS/', '*.wav')) + glob.glob(os.path.join('SIGNAL/REF/', '*.wav'))\n",
    "\"\"\"\n",
    "\n",
    "def parametrisation_total(rep_wav, rep_mfcc, nb_bits = 16, taille_fenetre = 1024, nbe_coef = 16):\n",
    "    if not os.path.exists(rep_mfcc):\n",
    "        os.makedirs(rep_mfcc)    \n",
    "    \n",
    "    for filename in os.listdir(rep_wav):\n",
    "        if filename.endswith(\".wav\"):\n",
    "            signal, _, _ = lecture(os.path.join(rep_wav, filename), nb_bits)\n",
    "            mfcc = parametrisation(signal, taille_fenetre, nbe_coef)\n",
    "            np.savetxt(os.path.join(rep_mfcc, filename[:-4] + '.mfcc'), mfcc, fmt='%d') "
   ]
  },
  {
   "cell_type": "markdown",
   "metadata": {},
   "source": [
    "# Programmation dynamique"
   ]
  },
  {
   "cell_type": "markdown",
   "metadata": {},
   "source": []
  },
  {
   "cell_type": "code",
   "execution_count": 17,
   "metadata": {},
   "outputs": [],
   "source": [
    "# Ecrire une fonction dtw qui prend deux arguments en entrée : la matrice de coefficients\n",
    "# cepstraux du signal à reconnaître (observation) et la matrice de coefficients cepstraux d'un\n",
    "# signal de référence. Cette fonction renvoie le coût normalisé.\n",
    "\"\"\" \n",
    "# Calcul de la DTW entre deux vecteurs\n",
    "def dtw(path_wav_obs, path_mfcc_ref):\n",
    "\n",
    "    #Loading data\n",
    "    mfcc_ref = np.loadtxt(path_mfcc_ref)\n",
    "    len_ref = len(mfcc_ref)\n",
    "    mfcc_obs = parametrisation(lecture(path_wav_obs))\n",
    "    len_obs = len(mfcc_obs)\n",
    "\n",
    "    #Generating dtw matrix\n",
    "    dtw_matrix = np.zeros((len(mfcc_obs),len(mfcc_ref)))\n",
    "        #Init of top and left line to infinity\n",
    "    print(dtw_matrix.shape)\n",
    "    \n",
    "    for i in range(0,len_obs-1):\n",
    "        dtw_matrix[i,0] = np.inf\n",
    "\n",
    "    for i in range(0,len_ref-1):\n",
    "        dtw_matrix[0,i] = np.inf\n",
    "    \n",
    "    for i in range(1, len_obs):\n",
    "        for j in range(1, len_ref):\n",
    "            dtw_matrix[i,j] = np.min([dtw_matrix[i-1, j-1], dtw_matrix[i-1, j], dtw_matrix[i, j-1]]) + dist(mfcc_obs[i], mfcc_ref[j])\n",
    "\n",
    "    return dtw_matrix[len_obs-1, len_ref-1]/(len_obs-1 * len_ref-1)\n",
    "\"\"\"\n",
    "\n",
    "def dtw(mfcc_ref, mfcc_obs, coeff_lin = 1, coeff_diag= 2):\n",
    "    mfcc_ref = np.loadtxt(mfcc_ref)\n",
    "    mfcc_obs = np.loadtxt(mfcc_obs)\n",
    "    n, _ = mfcc_ref.shape\n",
    "    m, _ = mfcc_obs.shape\n",
    "    d = np.zeros((n, m))\n",
    "    d[:,0] = np.inf # première ligne à zéro\n",
    "    d[0,:] = np.inf # première colonne à zéro\n",
    "    d[0, 0] = 0 # La toute première case est à zéro\n",
    "\n",
    "    for i in range(1, n):\n",
    "        for j in range(1, m):\n",
    "            dist = np.linalg.norm(mfcc_ref[i] - mfcc_obs[j]) # distance euclidienne entre les deux vecteurs \n",
    "            d[i, j] = dist + np.min([coeff_lin*d[i-1, j], coeff_lin*d[i, j-1], coeff_diag*d[i-1, j-1]]) # le poids vaut la distance euclidienne entre les deux vecteurs et le minimum de \"là où on peut venir\"\n",
    "    \n",
    "    return d[-1, -1]/(m+n) # On récupère le score puisqu'il se trouve dans la dernière case en bas à droite, que l'on divise par le nombre de colonnes et de lignes pour le normaliser"
   ]
  },
  {
   "cell_type": "code",
   "execution_count": 18,
   "metadata": {},
   "outputs": [],
   "source": [
    "#Ecrire une fonction   dtw_total   (utilisant la fonction   dtw  ) qui calcule la DTW sur toutes\n",
    "# les observations (fichiers Wave) du répertoire   rep_obs   par rapport   toutes les références\n",
    "# (fichiers MFCC) du répertoire   rep_ref. Cette fonction renvoie une matrice de coûts de taille\n",
    "# nb_fichier_obs x nb_fichier_ref.\n",
    "\n",
    "# DTW sur toutes les observations par rapport à toutes les références\n",
    "def dtw_total():\n",
    "    list_path_obs = glob.glob(os.path.join('MFCC_OBS/', '*.mfcc'))\n",
    "    list_path_ref = glob.glob(os.path.join('MFCC_REF/', '*.mfcc'))\n",
    "\n",
    "    #Matrix to store the distances\n",
    "    result = np.zeros((len(list_path_obs), len(list_path_ref)))\n",
    "\n",
    "    #Computation on all files\n",
    "    for i in range(len(list_path_obs)):\n",
    "        for j in range(len(list_path_ref)):\n",
    "            result[i,j] = dtw(list_path_obs[i], list_path_ref[j])\n",
    "    \n",
    "    return result"
   ]
  },
  {
   "cell_type": "markdown",
   "metadata": {},
   "source": [
    "# Affichages et tests"
   ]
  },
  {
   "cell_type": "code",
   "execution_count": 19,
   "metadata": {},
   "outputs": [],
   "source": [
    "# Ecrire un programme principal qui lance les fonctions précédentes et affiche pour chaque\n",
    "# observation (mot inconnu), le mot le plus probable.\n",
    "\n",
    "# Initialisation\n",
    "q = 16\n",
    "taille_fenetre = 1024\n",
    "nbe_coef = 16\n",
    "rep_ref = 'SIGNAL/REF/'\n",
    "rep_obs = 'SIGNAL/OBS/'\n",
    "rep_mfcc = 'MFCC'\n"
   ]
  },
  {
   "cell_type": "code",
   "execution_count": 393,
   "metadata": {},
   "outputs": [],
   "source": [
    "parametrisation_total('SIGNAL/OBS', 'MFCC_REF', q, taille_fenetre, nbe_coef)"
   ]
  },
  {
   "cell_type": "code",
   "execution_count": 20,
   "metadata": {},
   "outputs": [
    {
     "name": "stdout",
     "output_type": "stream",
     "text": [
      "305.0847293350675\n"
     ]
    }
   ],
   "source": [
    "# Paramétrisation des fichiers références\n",
    "parametrisation_total('SIGNAL/REF', 'MFCC_REF', q, taille_fenetre, nbe_coef)\n",
    "parametrisation_total('SIGNAL/OBS', 'MFCC_OBS', q, taille_fenetre, nbe_coef)\n",
    "\n",
    "# Test de la DTW\n",
    "cost = dtw('MFCC_REF/alpha.mfcc', 'MFCC_OBS/alpha.mfcc')\n",
    "print(cost)"
   ]
  },
  {
   "cell_type": "code",
   "execution_count": 21,
   "metadata": {},
   "outputs": [
    {
     "name": "stdout",
     "output_type": "stream",
     "text": [
      "[[278.80070094 581.19339304 471.6655361  407.59350514 426.71939091\n",
      "  380.24318401 396.13289528 432.91932721 365.51348204 383.47475129\n",
      "  418.13356636 364.40616384 405.44502999]\n",
      " [438.18253228 485.08805803 479.10024929 499.02984021 511.19422723\n",
      "  443.01251846 476.51047627 398.71619989 448.56779252 464.97076289\n",
      "  420.84263122 438.99382243 434.33211154]\n",
      " [536.27092087 699.18965668 442.67572729 507.6656836  565.96204413\n",
      "  547.7785549  556.78569495 504.53761193 525.06463116 529.24704196\n",
      "  478.7345552  479.31413684 559.19875697]\n",
      " [349.16299331 557.20162602 381.3000497  299.52433376 350.34759457\n",
      "  379.9013486  359.79350472 396.79275592 380.71149085 415.67921106\n",
      "  345.12666653 344.43264665 406.20683818]\n",
      " [371.96794151 600.70730293 470.12927166 403.42813675 304.1635809\n",
      "  442.7904969  446.19993359 468.74924469 403.45909962 408.09425142\n",
      "  424.19278119 430.38867232 408.16715439]\n",
      " [380.71793191 585.13790658 478.53143073 426.30168432 483.92340867\n",
      "  302.23212144 445.21147746 415.07810664 449.42551226 414.2834829\n",
      "  401.85723438 399.13428296 505.94029634]\n",
      " [359.02735292 541.66787413 451.16742871 398.58075453 485.53894865\n",
      "  380.16178763 360.94656304 445.84586114 448.41589446 432.21049187\n",
      "  403.77276391 395.10358473 439.66941347]\n",
      " [392.33273553 571.22375685 474.15467351 454.86973298 485.53790154\n",
      "  365.34253892 457.73922358 298.02452762 421.80022261 381.90094392\n",
      "  389.15032685 425.80146803 494.11949141]\n",
      " [304.08982018 573.7101827  428.11986562 383.50891255 405.67184585\n",
      "  365.69047451 436.11747267 383.17066478 266.36556557 395.19607869\n",
      "  372.23867484 342.37975961 408.94718303]\n",
      " [436.30900249 675.10938198 518.31741929 512.11680656 527.37697002\n",
      "  483.86195717 517.31143625 485.61679165 480.38390917 404.84440003\n",
      "  505.12780183 453.51388504 528.07406744]\n",
      " [388.70411453 571.07769235 406.7485133  439.88702246 451.37175596\n",
      "  408.21150494 451.75050637 418.6115346  393.75196232 452.43299486\n",
      "  305.08472934 356.84793499 454.38136102]\n",
      " [338.59082586 566.75663622 458.88015668 427.99649549 430.00364836\n",
      "  410.5504571  426.89693067 400.57727004 355.10320072 407.09637702\n",
      "  361.48299495 306.9006106  450.34717572]\n",
      " [409.8107873  560.67727117 484.13515732 424.83965255 427.29538027\n",
      "  448.94973147 480.2253615  478.45703025 434.64184957 443.67379242\n",
      "  463.61383868 443.8800555  334.12377886]]\n"
     ]
    }
   ],
   "source": [
    "# DTW sur toutes les observations par rapport à chaque référence\n",
    "cost_matrix = dtw_total()\n",
    "\n",
    "# Affichage des couts\n",
    "print(cost_matrix)"
   ]
  },
  {
   "cell_type": "code",
   "execution_count": 82,
   "metadata": {},
   "outputs": [
    {
     "name": "stdout",
     "output_type": "stream",
     "text": [
      "               Alpha       Bravo     Charlie       Delta        Echo  \\\n",
      "Alpha     278.800701  581.193393  471.665536  407.593505  426.719391   \n",
      "Bravo     438.182532  485.088058  479.100249  499.029840  511.194227   \n",
      "Charlie   536.270921  699.189657  442.675727  507.665684  565.962044   \n",
      "Delta     349.162993  557.201626  381.300050  299.524334  350.347595   \n",
      "Echo      371.967942  600.707303  470.129272  403.428137  304.163581   \n",
      "Foxtrott  380.717932  585.137907  478.531431  426.301684  483.923409   \n",
      "Golf      359.027353  541.667874  451.167429  398.580755  485.538949   \n",
      "Hotel     392.332736  571.223757  474.154674  454.869733  485.537902   \n",
      "India     304.089820  573.710183  428.119866  383.508913  405.671846   \n",
      "Juliett   436.309002  675.109382  518.317419  512.116807  527.376970   \n",
      "Kilo      388.704115  571.077692  406.748513  439.887022  451.371756   \n",
      "Lima      338.590826  566.756636  458.880157  427.996495  430.003648   \n",
      "Mike      409.810787  560.677271  484.135157  424.839653  427.295380   \n",
      "\n",
      "            Foxtrott        Golf       Hotel       India     Juliett  \\\n",
      "Alpha     380.243184  396.132895  432.919327  365.513482  383.474751   \n",
      "Bravo     443.012518  476.510476  398.716200  448.567793  464.970763   \n",
      "Charlie   547.778555  556.785695  504.537612  525.064631  529.247042   \n",
      "Delta     379.901349  359.793505  396.792756  380.711491  415.679211   \n",
      "Echo      442.790497  446.199934  468.749245  403.459100  408.094251   \n",
      "Foxtrott  302.232121  445.211477  415.078107  449.425512  414.283483   \n",
      "Golf      380.161788  360.946563  445.845861  448.415894  432.210492   \n",
      "Hotel     365.342539  457.739224  298.024528  421.800223  381.900944   \n",
      "India     365.690475  436.117473  383.170665  266.365566  395.196079   \n",
      "Juliett   483.861957  517.311436  485.616792  480.383909  404.844400   \n",
      "Kilo      408.211505  451.750506  418.611535  393.751962  452.432995   \n",
      "Lima      410.550457  426.896931  400.577270  355.103201  407.096377   \n",
      "Mike      448.949731  480.225362  478.457030  434.641850  443.673792   \n",
      "\n",
      "                Kilo        Lima        Mike  \n",
      "Alpha     418.133566  364.406164  405.445030  \n",
      "Bravo     420.842631  438.993822  434.332112  \n",
      "Charlie   478.734555  479.314137  559.198757  \n",
      "Delta     345.126667  344.432647  406.206838  \n",
      "Echo      424.192781  430.388672  408.167154  \n",
      "Foxtrott  401.857234  399.134283  505.940296  \n",
      "Golf      403.772764  395.103585  439.669413  \n",
      "Hotel     389.150327  425.801468  494.119491  \n",
      "India     372.238675  342.379760  408.947183  \n",
      "Juliett   505.127802  453.513885  528.074067  \n",
      "Kilo      305.084729  356.847935  454.381361  \n",
      "Lima      361.482995  306.900611  450.347176  \n",
      "Mike      463.613839  443.880055  334.123779  \n"
     ]
    },
    {
     "data": {
      "image/png": "[encoded data removed]",
      "text/plain": [
       "<Figure size 640x480 with 2 Axes>"
      ]
     },
     "metadata": {},
     "output_type": "display_data"
    },
    {
     "data": {
      "image/png": "[encoded data removed]",
      "text/plain": [
       "<Figure size 640x480 with 1 Axes>"
      ]
     },
     "metadata": {},
     "output_type": "display_data"
    }
   ],
   "source": [
    "# Affichage amélioré\n",
    "\n",
    "#On utilise les dataframe de Pandas pour la representation des données\n",
    "labels = ['Alpha','Bravo','Charlie', 'Delta', 'Echo', 'Foxtrott', 'Golf', 'Hotel', 'India', 'Juliett', 'Kilo', 'Lima', 'Mike']\n",
    "df = pd.DataFrame(cost_matrix, index=labels, columns=labels)\n",
    "print(df)\n",
    "\n",
    "#Heatmap de la matrice de coût (abscisses = references, ordonées = observations)\n",
    "sns.heatmap(df, fmt=\"0.1f\", linewidths=.5)\n",
    "plt.figure()\n",
    "\n",
    "#Barplot\n",
    "ax = sns.barplot(df)\n",
    "plt.show()\n",
    "\n",
    "# Ajouter à votre programme principal, un affichage des coûts entre une observation et chaque\n",
    "# référence sous forme d'histogramme via la commande bar.\n",
    "# Calculer le score de reconnaissance.\n",
    "\n",
    "# Pour chaque observation, affichage des coûts (par rapport aux références) sous forme d'histogramme\n",
    "\n"
   ]
  },
  {
   "cell_type": "code",
   "execution_count": 23,
   "metadata": {},
   "outputs": [],
   "source": [
    "# Affichage score final\n"
   ]
  },
  {
   "cell_type": "code",
   "execution_count": 24,
   "metadata": {},
   "outputs": [],
   "source": [
    "# Autres tests \n",
    "# Tests\n",
    "# Bien  videmment, afin d’am liorer les r sultats, vous pourrez modifier :\n",
    "# - le nombre de param tres (coefficients cepstraux) : nbe_coef,\n",
    "# - la taille de la fen tre d’analyse : taille_fenetre,\n",
    "# ET TESTER AVEC VOS PROPRES ENREGISTREMENTS !"
   ]
  }
 ],
 "metadata": {
  "kernelspec": {
   "display_name": "TP_TAP",
   "language": "python",
   "name": "python3"
  },
  "language_info": {
   "codemirror_mode": {
    "name": "ipython",
    "version": 3
   },
   "file_extension": ".py",
   "mimetype": "text/x-python",
   "name": "python",
   "nbconvert_exporter": "python",
   "pygments_lexer": "ipython3",
   "version": "3.10.9"
  },
  "vscode": {
   "interpreter": {
    "hash": "07f82935b17eccff317f15336d0a04ae99d3e9bf5af665ef85324a4487307230"
   }
  }
 },
 "nbformat": 4,
 "nbformat_minor": 4
}
